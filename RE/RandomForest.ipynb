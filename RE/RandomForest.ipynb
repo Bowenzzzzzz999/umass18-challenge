{
 "cells": [
  {
   "cell_type": "code",
   "execution_count": 5,
   "metadata": {
    "ExecuteTime": {
     "end_time": "2018-05-16T03:11:05.590320Z",
     "start_time": "2018-05-16T03:11:02.426375Z"
    }
   },
   "outputs": [],
   "source": [
    "from sklearn.model_selection import cross_validate\n",
    "from sklearn.model_selection import ShuffleSplit\n",
    "from sklearn.ensemble import RandomForestClassifier\n",
    "from sklearn.metrics import f1_score\n",
    "from sklearn.model_selection import GridSearchCV\n",
    "from sklearn.feature_extraction import DictVectorizer\n",
    "import pickle as pkl\n",
    "import numpy as np\n",
    "import copy"
   ]
  },
  {
   "cell_type": "markdown",
   "metadata": {},
   "source": [
    "## data load and parameter tuning"
   ]
  },
  {
   "cell_type": "code",
   "execution_count": 154,
   "metadata": {
    "ExecuteTime": {
     "end_time": "2018-05-17T04:11:31.661914Z",
     "start_time": "2018-05-17T04:11:31.651687Z"
    }
   },
   "outputs": [],
   "source": [
    "'''\n",
    "7\t-76\t-12\tCHEMOTHERAPY\tHODGKIN DISEASE\tDrug\tIndication\tfor\tadmission for\tObservation admission for\tencounter\tencounter .\tencounter . History\twith\told with\tyear old with\tand\tand treatment\tand treatment with\n",
    "'''\n",
    "\n",
    "def load_RF_data(file, train=True):\n",
    "    measures = []\n",
    "    \n",
    "    pkl_file = file.split(\".\")[0] + \"_features_dict.pkl\"\n",
    "    with open(pkl_file, \"rb\") as f:\n",
    "        t2i = pkl.load(f)\n",
    "    \n",
    "    with open(file, \"r\") as f:\n",
    "        y = []\n",
    "        for line in f:\n",
    "            info = line[:-1].split(\"\\t\")\n",
    "            if train:\n",
    "                s = 3\n",
    "                lable = int(info[0])\n",
    "                f1 = float(info[1])\n",
    "                f2 = float(info[2])\n",
    "                y.append(lable)\n",
    "            else:\n",
    "                s = 2\n",
    "                f1 = float(info[0])\n",
    "                f2 = float(info[1])\n",
    "            d = [f1, f2]\n",
    "            for i in range(s, len(info)):\n",
    "                if info[i] in t2i:\n",
    "                    fid = t2i[info[i]]\n",
    "                else:\n",
    "                    fid = 0\n",
    "                d.append(fid)\n",
    "            measures.append(d)\n",
    "    return measures, y"
   ]
  },
  {
   "cell_type": "code",
   "execution_count": 155,
   "metadata": {
    "ExecuteTime": {
     "end_time": "2018-05-17T04:11:33.125500Z",
     "start_time": "2018-05-17T04:11:33.116460Z"
    }
   },
   "outputs": [],
   "source": [
    "def my_eval(y_true, y_pred):\n",
    "    tp = 0\n",
    "    fp = 0\n",
    "    fn = 0\n",
    "    assert len(y_true) == len(y_pred), \"Input data must have same length\"\n",
    "    \n",
    "    for each in zip(y_true, y_pred):\n",
    "        if each[1] != 0:\n",
    "            if each[1] == each[0]:\n",
    "                tp += 1\n",
    "            elif each[1] != each[0]:\n",
    "                fp += 1\n",
    "        else:\n",
    "            if each[0] != each[1]:\n",
    "                fn += 1\n",
    "    if tp+fp > 0:\n",
    "        precision=float(tp)/(tp+fp)\n",
    "    else:\n",
    "        precision=0\n",
    "    if tp+fn > 0:\n",
    "        recall=float(tp)/(tp+fn)\n",
    "    else:\n",
    "        recall=0\n",
    "    if precision + recall > 0:\n",
    "        fscore=(2*precision*recall)/(precision+recall)\n",
    "    else:\n",
    "        fscore =0 \n",
    "#     print(tp, fp, fn)\n",
    "    return precision, recall, fscore"
   ]
  },
  {
   "cell_type": "code",
   "execution_count": 162,
   "metadata": {
    "ExecuteTime": {
     "end_time": "2018-05-17T04:13:21.397220Z",
     "start_time": "2018-05-17T04:13:21.388193Z"
    }
   },
   "outputs": [],
   "source": [
    "def my_eval_detailed(y_true, y_pred):\n",
    "    assert len(y_true) == len(y_pred), \"Input data must have same length\"\n",
    "    cat = dict()\n",
    "    dtp = dict()\n",
    "    for t, p in zip(y_true, y_pred):\n",
    "        if t in cat:\n",
    "            cat[t] += 1\n",
    "        else:\n",
    "            cat[t] = 1\n",
    "        \n",
    "        if p not in dtp:\n",
    "            dtp[p] = [0, 0, 0] #p, y, n\n",
    "        \n",
    "        dtp[p][0] += 1\n",
    "        if p == t:\n",
    "            dtp[p][1] += 1\n",
    "        else:\n",
    "            dtp[p][2] += 1\n",
    "    res = dict()\n",
    "    for k, v in cat.items():\n",
    "#         print(\"label {}, number {}\".format(k, v))\n",
    "        percision = float(dtp[k][1] / dtp[k][0])\n",
    "        recall = float(dtp[k][1]/v)\n",
    "        f_score = (2*percision*recall)/(percision+recall)\n",
    "#         print(\"percision: {}, recall: {}, fscore: {}\".format(percision, recall, f_score))\n",
    "        res[k] = [percision, recall, f_score]\n",
    "    return res"
   ]
  },
  {
   "cell_type": "code",
   "execution_count": 163,
   "metadata": {
    "ExecuteTime": {
     "end_time": "2018-05-17T04:13:30.014692Z",
     "start_time": "2018-05-17T04:13:30.003157Z"
    }
   },
   "outputs": [],
   "source": [
    "def RF_cv(data, **param):\n",
    "    print(len(data))\n",
    "    best_f1 = {\"param\":\"\", \"score\":0}\n",
    "    clf = RandomForestClassifier(**param, n_jobs=-1)\n",
    "    true = []\n",
    "    pred = []\n",
    "    rs = ShuffleSplit(n_splits=5, test_size=.2, random_state=13)\n",
    "    for train_index, test_index in rs.split(data):\n",
    "    #     print(\"TRAIN:\", train_index, \"TEST:\", test_index)\n",
    "        X = [data[i][0] for i in train_index]\n",
    "        y = [data[i][1] for i in train_index]\n",
    "#                 for each in X:\n",
    "#                     ll = len(each)\n",
    "#                     for i in range(ll, 18):\n",
    "#                         each.append(0)\n",
    "        clf.fit(X, y)\n",
    "        X_pred = [data[i][0] for i in test_index]\n",
    "#                 for each in X_pred:\n",
    "#                     ll = len(each)\n",
    "#                     for i in range(ll, 18):\n",
    "#                         each.append(0)\n",
    "        y_true = [data[i][1] for i in test_index]\n",
    "        true.extend(y_true)\n",
    "        y_pred = clf.predict(X_pred)\n",
    "        pred.extend(y_pred)\n",
    "    p, r, f = my_eval(true, pred)\n",
    "    res = my_eval_detailed(true, pred)\n",
    "    print(p, r, f)\n",
    "    best_f1[\"score\"] += f\n",
    "    p = []\n",
    "    for k, v in param.items():\n",
    "        p.append(\"{}: {}\".format(k, v))\n",
    "#     print(p)\n",
    "    best_f1[\"param\"] = \" \".join(p)\n",
    "    return best_f1, res"
   ]
  },
  {
   "cell_type": "markdown",
   "metadata": {},
   "source": [
    "### within sentence"
   ]
  },
  {
   "cell_type": "code",
   "execution_count": 293,
   "metadata": {
    "ExecuteTime": {
     "end_time": "2018-05-18T19:10:25.436431Z",
     "start_time": "2018-05-18T19:10:25.432806Z"
    }
   },
   "outputs": [],
   "source": [
    "within_file = \"SVM_training_data/umass18SVM_within_sent.svm\""
   ]
  },
  {
   "cell_type": "code",
   "execution_count": 134,
   "metadata": {
    "ExecuteTime": {
     "end_time": "2018-05-17T04:02:16.902053Z",
     "start_time": "2018-05-17T04:02:16.899285Z"
    }
   },
   "outputs": [],
   "source": [
    "def get_feature_num(file):\n",
    "    pkl_file = file.split(\".\")[0] + \"_features_dict.pkl\"\n",
    "    with open(pkl_file, \"rb\") as f:\n",
    "        t2i = pkl.load(f)\n",
    "    return len(t2i)"
   ]
  },
  {
   "cell_type": "code",
   "execution_count": 294,
   "metadata": {
    "ExecuteTime": {
     "end_time": "2018-05-18T19:10:27.228577Z",
     "start_time": "2018-05-18T19:10:26.799209Z"
    }
   },
   "outputs": [
    {
     "data": {
      "text/plain": [
       "([-27.0, -8.0, 3, 4, 5, 6, 0, 0, 0, 7, 8, 9, 7, 10, 11, 12, 13, 14], 7)"
      ]
     },
     "execution_count": 294,
     "metadata": {},
     "output_type": "execute_result"
    }
   ],
   "source": [
    "X, y = load_RF_data(\"RF_data/umassRF_training_within.rf\")\n",
    "\n",
    "n_within_data = list(zip(X, y))\n",
    "\n",
    "for i, each in enumerate(n_within_data):\n",
    "    if len(each[0]) != 18:\n",
    "        print(each, i)\n",
    "\n",
    "n_within_data[0]"
   ]
  },
  {
   "cell_type": "code",
   "execution_count": 295,
   "metadata": {
    "ExecuteTime": {
     "end_time": "2018-05-18T19:10:28.089101Z",
     "start_time": "2018-05-18T19:10:28.086632Z"
    }
   },
   "outputs": [
    {
     "data": {
      "text/plain": [
       "64783"
      ]
     },
     "execution_count": 295,
     "metadata": {},
     "output_type": "execute_result"
    }
   ],
   "source": [
    "len(n_within_data)"
   ]
  },
  {
   "cell_type": "code",
   "execution_count": 47,
   "metadata": {
    "ExecuteTime": {
     "end_time": "2018-05-16T14:02:06.052780Z",
     "start_time": "2018-05-16T14:02:06.046485Z"
    }
   },
   "outputs": [
    {
     "data": {
      "text/plain": [
       "5"
      ]
     },
     "execution_count": 47,
     "metadata": {},
     "output_type": "execute_result"
    }
   ],
   "source": [
    "rs = ShuffleSplit(n_splits=5, test_size=.2, random_state=1)\n",
    "rs.get_n_splits(n_within_data)"
   ]
  },
  {
   "cell_type": "code",
   "execution_count": null,
   "metadata": {},
   "outputs": [],
   "source": [
    "# 'max_features':['sqrt', 'log2', 10],\n",
    "#               'max_depth':[5, 7, 9]}"
   ]
  },
  {
   "cell_type": "code",
   "execution_count": 296,
   "metadata": {
    "ExecuteTime": {
     "end_time": "2018-05-18T19:57:01.273239Z",
     "start_time": "2018-05-18T19:10:34.304909Z"
    }
   },
   "outputs": [
    {
     "name": "stdout",
     "output_type": "stream",
     "text": [
      "64783\n",
      "0.949672820130872 0.9442975031739315 0.9469775337524204\n",
      "{'param': 'n_estimators: 250 max_features: sqrt random_state: 13 min_samples_split: 2 criterion: gini', 'score': 0.9469775337524204}\n",
      "64783\n",
      "0.9492458322307489 0.9487437185929648 0.948994708994709\n",
      "{'param': 'n_estimators: 250 max_features: sqrt random_state: 13 min_samples_split: 2 criterion: entropy', 'score': 0.948994708994709}\n",
      "64783\n",
      "0.949672820130872 0.9442975031739315 0.9469775337524204\n",
      "{'param': 'n_estimators: 250 max_features: log2 random_state: 13 min_samples_split: 2 criterion: gini', 'score': 0.9469775337524204}\n",
      "64783\n",
      "0.9492458322307489 0.9487437185929648 0.948994708994709\n",
      "{'param': 'n_estimators: 250 max_features: log2 random_state: 13 min_samples_split: 2 criterion: entropy', 'score': 0.948994708994709}\n",
      "64783\n",
      "0.939138625778429 0.9493228946254761 0.9442032988714386\n",
      "{'param': 'n_estimators: 250 max_features: None random_state: 13 min_samples_split: 2 criterion: gini', 'score': 0.9442032988714386}\n",
      "64783\n",
      "0.9401375429821819 0.9545093890505157 0.9472689571904774\n",
      "{'param': 'n_estimators: 250 max_features: None random_state: 13 min_samples_split: 2 criterion: entropy', 'score': 0.9472689571904774}\n",
      "64783\n",
      "0.950345928685471 0.9446148963182395 0.9474717461664985\n",
      "{'param': 'n_estimators: 500 max_features: sqrt random_state: 13 min_samples_split: 2 criterion: gini', 'score': 0.9474717461664985}\n",
      "64783\n",
      "0.9493336154008886 0.9494340421030361 0.9493838260961549\n",
      "{'param': 'n_estimators: 500 max_features: sqrt random_state: 13 min_samples_split: 2 criterion: entropy', 'score': 0.9493838260961549}\n",
      "64783\n",
      "0.950345928685471 0.9446148963182395 0.9474717461664985\n",
      "{'param': 'n_estimators: 500 max_features: log2 random_state: 13 min_samples_split: 2 criterion: gini', 'score': 0.9474717461664985}\n",
      "64783\n",
      "0.9493336154008886 0.9494340421030361 0.9493838260961549\n",
      "{'param': 'n_estimators: 500 max_features: log2 random_state: 13 min_samples_split: 2 criterion: entropy', 'score': 0.9493838260961549}\n",
      "64783\n",
      "0.938926104249529 0.9491086070994023 0.9439898976612033\n",
      "{'param': 'n_estimators: 500 max_features: None random_state: 13 min_samples_split: 2 criterion: gini', 'score': 0.9439898976612033}\n",
      "64783\n",
      "0.9392756790508898 0.9548267654059772 0.946987382944679\n",
      "{'param': 'n_estimators: 500 max_features: None random_state: 13 min_samples_split: 2 criterion: entropy', 'score': 0.946987382944679}\n",
      "64783\n",
      "0.950776926351639 0.9451438848920863 0.9479520373514432\n",
      "{'param': 'n_estimators: 750 max_features: sqrt random_state: 13 min_samples_split: 2 criterion: gini', 'score': 0.9479520373514432}\n",
      "64783\n",
      "0.9488005917785057 0.9498545358370801 0.9493272712854537\n",
      "{'param': 'n_estimators: 750 max_features: sqrt random_state: 13 min_samples_split: 2 criterion: entropy', 'score': 0.9493272712854537}\n",
      "64783\n",
      "0.950776926351639 0.9451438848920863 0.9479520373514432\n",
      "{'param': 'n_estimators: 750 max_features: log2 random_state: 13 min_samples_split: 2 criterion: gini', 'score': 0.9479520373514432}\n",
      "64783\n",
      "0.9488005917785057 0.9498545358370801 0.9493272712854537\n",
      "{'param': 'n_estimators: 750 max_features: log2 random_state: 13 min_samples_split: 2 criterion: entropy', 'score': 0.9493272712854537}\n",
      "64783\n",
      "0.938880167451596 0.9491615087552241 0.9439928445531791\n",
      "{'param': 'n_estimators: 750 max_features: None random_state: 13 min_samples_split: 2 criterion: gini', 'score': 0.9439928445531791}\n",
      "64783\n",
      "0.9391779396462019 0.9548267654059772 0.9469377049180329\n",
      "{'param': 'n_estimators: 750 max_features: None random_state: 13 min_samples_split: 2 criterion: entropy', 'score': 0.9469377049180329}\n",
      "64783\n",
      "0.9501622254135418 0.9449851883199323 0.9475666357247049\n",
      "{'param': 'n_estimators: 1000 max_features: sqrt random_state: 13 min_samples_split: 2 criterion: gini', 'score': 0.9475666357247049}\n",
      "64783\n",
      "0.9486502192403191 0.9498042949328256 0.9492269063036871\n",
      "{'param': 'n_estimators: 1000 max_features: sqrt random_state: 13 min_samples_split: 2 criterion: entropy', 'score': 0.9492269063036871}\n",
      "64783\n",
      "0.9501622254135418 0.9449851883199323 0.9475666357247049\n",
      "{'param': 'n_estimators: 1000 max_features: log2 random_state: 13 min_samples_split: 2 criterion: gini', 'score': 0.9475666357247049}\n",
      "64783\n",
      "0.9486502192403191 0.9498042949328256 0.9492269063036871\n",
      "{'param': 'n_estimators: 1000 max_features: log2 random_state: 13 min_samples_split: 2 criterion: entropy', 'score': 0.9492269063036871}\n",
      "64783\n",
      "0.9391686734373365 0.9490557054435804 0.9440863044336272\n",
      "{'param': 'n_estimators: 1000 max_features: None random_state: 13 min_samples_split: 2 criterion: gini', 'score': 0.9440863044336272}\n",
      "64783\n",
      "0.9395690193628982 0.9548267654059772 0.9471364483039063\n",
      "{'param': 'n_estimators: 1000 max_features: None random_state: 13 min_samples_split: 2 criterion: entropy', 'score': 0.9471364483039063}\n",
      "64783\n",
      "0.9504070664609163 0.9447765141496959 0.947583426176455\n",
      "{'param': 'n_estimators: 1250 max_features: sqrt random_state: 13 min_samples_split: 2 criterion: gini', 'score': 0.947583426176455}\n",
      "64783\n",
      "0.9490620871862615 0.9500661200740544 0.949563838223632\n",
      "{'param': 'n_estimators: 1250 max_features: sqrt random_state: 13 min_samples_split: 2 criterion: entropy', 'score': 0.949563838223632}\n",
      "64783\n",
      "0.9504070664609163 0.9447765141496959 0.947583426176455\n",
      "{'param': 'n_estimators: 1250 max_features: log2 random_state: 13 min_samples_split: 2 criterion: gini', 'score': 0.947583426176455}\n",
      "64783\n",
      "0.9490620871862615 0.9500661200740544 0.949563838223632\n",
      "{'param': 'n_estimators: 1250 max_features: log2 random_state: 13 min_samples_split: 2 criterion: entropy', 'score': 0.949563838223632}\n",
      "64783\n",
      "0.9391322551944313 0.9492673120668677 0.9441725861615363\n",
      "{'param': 'n_estimators: 1250 max_features: None random_state: 13 min_samples_split: 2 criterion: gini', 'score': 0.9441725861615363}\n",
      "64783\n",
      "0.9395264116575592 0.9549325575244644 0.9471668415529905\n",
      "{'param': 'n_estimators: 1250 max_features: None random_state: 13 min_samples_split: 2 criterion: entropy', 'score': 0.9471668415529905}\n",
      "64783\n",
      "0.9503538551588357 0.9447236180904522 0.947530372964083\n",
      "{'param': 'n_estimators: 1500 max_features: sqrt random_state: 13 min_samples_split: 2 criterion: gini', 'score': 0.947530372964083}\n",
      "64783\n",
      "0.9490620871862615 0.9500158679784195 0.9495387380719515\n",
      "{'param': 'n_estimators: 1500 max_features: sqrt random_state: 13 min_samples_split: 2 criterion: entropy', 'score': 0.9495387380719515}\n",
      "64783\n",
      "0.9503538551588357 0.9447236180904522 0.947530372964083\n",
      "{'param': 'n_estimators: 1500 max_features: log2 random_state: 13 min_samples_split: 2 criterion: gini', 'score': 0.947530372964083}\n",
      "64783\n",
      "0.9490620871862615 0.9500158679784195 0.9495387380719515\n",
      "{'param': 'n_estimators: 1500 max_features: log2 random_state: 13 min_samples_split: 2 criterion: entropy', 'score': 0.9495387380719515}\n",
      "64783\n",
      "0.9389784383504292 0.9491615087552241 0.9440425140091027\n",
      "{'param': 'n_estimators: 1500 max_features: None random_state: 13 min_samples_split: 2 criterion: gini', 'score': 0.9440425140091027}\n",
      "64783\n",
      "0.9393150827521599 0.9546680772282465 0.9469293528161808\n",
      "{'param': 'n_estimators: 1500 max_features: None random_state: 13 min_samples_split: 2 criterion: entropy', 'score': 0.9469293528161808}\n"
     ]
    }
   ],
   "source": [
    "best_f1_within = {\"param\":\"\", \"score\":0}\n",
    "res_f_within = None\n",
    "\n",
    "for ne in [250, 500, 750, 1000, 1250, 1500]:\n",
    "    for mf in ['sqrt', 'log2', None]:\n",
    "        for ct in ['gini', 'entropy']:\n",
    "            for mss in [2]:\n",
    "                bf, res = RF_cv(n_within_data, n_estimators=ne, max_features=mf, random_state=13, min_samples_split=mss, criterion=ct)\n",
    "                print(bf)\n",
    "                if bf['score'] > best_f1_within['score']:\n",
    "                    best_f1_within = bf\n",
    "                    res_f_within = res"
   ]
  },
  {
   "cell_type": "code",
   "execution_count": 297,
   "metadata": {
    "ExecuteTime": {
     "end_time": "2018-05-18T19:57:02.153567Z",
     "start_time": "2018-05-18T19:57:02.151025Z"
    }
   },
   "outputs": [
    {
     "data": {
      "text/plain": [
       "{'param': 'n_estimators: 1250 max_features: sqrt random_state: 13 min_samples_split: 2 criterion: entropy',\n",
       " 'score': 0.949563838223632}"
      ]
     },
     "execution_count": 297,
     "metadata": {},
     "output_type": "execute_result"
    }
   ],
   "source": [
    "best_f1_within"
   ]
  },
  {
   "cell_type": "code",
   "execution_count": 298,
   "metadata": {
    "ExecuteTime": {
     "end_time": "2018-05-18T19:57:03.025545Z",
     "start_time": "2018-05-18T19:57:03.022772Z"
    }
   },
   "outputs": [
    {
     "data": {
      "text/plain": [
       "{0: [0.979415612734409, 0.9790100045772576, 0.9792127666532227],\n",
       " 7: [0.9675421738202007, 0.9630180658873538, 0.9652748189177673],\n",
       " 5: [0.9614688388931989, 0.9315960912052117, 0.94629676762535],\n",
       " 1: [0.9632974075152927, 0.9505605058924979, 0.9568865740740741],\n",
       " 2: [0.9461626575028637, 0.9694835680751174, 0.9576811594202899],\n",
       " 4: [0.8880503144654088, 0.9417518897287683, 0.9141130772550713],\n",
       " 3: [0.9634869922409859, 0.9432529043789097, 0.9532625874915331],\n",
       " 6: [0.9042196918955124, 0.9698275862068966, 0.9358752166377816]}"
      ]
     },
     "execution_count": 298,
     "metadata": {},
     "output_type": "execute_result"
    }
   ],
   "source": [
    "res_f_within"
   ]
  },
  {
   "cell_type": "code",
   "execution_count": 309,
   "metadata": {
    "ExecuteTime": {
     "end_time": "2018-05-20T17:24:10.709891Z",
     "start_time": "2018-05-20T17:24:10.703232Z"
    }
   },
   "outputs": [
    {
     "name": "stdout",
     "output_type": "stream",
     "text": [
      "{0: 'NEGATIVE', 1: 'severity_type', 2: 'du', 3: 'manner/route', 4: 'reason', 5: 'fr', 6: 'adverse', 7: 'do'}\n"
     ]
    }
   ],
   "source": [
    "with open(\"features_labels/umass18SVM_within_sent_index2label.pkl\", \"rb\") as f:\n",
    "    x = pkl.load(f)\n",
    "print(x)"
   ]
  },
  {
   "cell_type": "markdown",
   "metadata": {},
   "source": [
    "### cross data"
   ]
  },
  {
   "cell_type": "code",
   "execution_count": 299,
   "metadata": {
    "ExecuteTime": {
     "end_time": "2018-05-18T19:57:04.167548Z",
     "start_time": "2018-05-18T19:57:03.891373Z"
    }
   },
   "outputs": [
    {
     "data": {
      "text/plain": [
       "31406"
      ]
     },
     "execution_count": 299,
     "metadata": {},
     "output_type": "execute_result"
    }
   ],
   "source": [
    "cross_file = \"RF_data/umassRF_training_cross1.rf\"\n",
    "X, y = load_RF_data(cross_file)\n",
    "len(X)"
   ]
  },
  {
   "cell_type": "code",
   "execution_count": null,
   "metadata": {
    "ExecuteTime": {
     "end_time": "2018-05-17T12:35:09.665901Z",
     "start_time": "2018-05-17T12:33:25.817Z"
    }
   },
   "outputs": [],
   "source": [
    "print(X[:3])"
   ]
  },
  {
   "cell_type": "code",
   "execution_count": 300,
   "metadata": {
    "ExecuteTime": {
     "end_time": "2018-05-18T19:57:04.965675Z",
     "start_time": "2018-05-18T19:57:04.952589Z"
    }
   },
   "outputs": [
    {
     "name": "stdout",
     "output_type": "stream",
     "text": [
      "[([171.0, 26.0, 151, 152, 5, 42, 153, 154, 155, 16, 156, 157, 158, 159, 160, 16, 161, 162], 4), ([194.0, 30.0, 163, 152, 5, 42, 164, 165, 157, 16, 166, 167, 158, 159, 160, 16, 161, 162], 4), ([212.0, 32.0, 168, 152, 5, 42, 16, 169, 170, 171, 172, 173, 158, 159, 160, 16, 161, 162], 4)]\n"
     ]
    }
   ],
   "source": [
    "cross_data = list(zip(X, y))\n",
    "\n",
    "for i, each in enumerate(cross_data):\n",
    "    if len(each[0]) != 18:\n",
    "        print(each, i)\n",
    "\n",
    "print(cross_data[:3])"
   ]
  },
  {
   "cell_type": "code",
   "execution_count": 65,
   "metadata": {
    "ExecuteTime": {
     "end_time": "2018-05-16T14:17:38.335901Z",
     "start_time": "2018-05-16T14:17:38.329650Z"
    }
   },
   "outputs": [
    {
     "data": {
      "text/plain": [
       "5"
      ]
     },
     "execution_count": 65,
     "metadata": {},
     "output_type": "execute_result"
    }
   ],
   "source": [
    "rs = ShuffleSplit(n_splits=5, test_size=.2, random_state=13)\n",
    "rs.get_n_splits(cross_data)"
   ]
  },
  {
   "cell_type": "code",
   "execution_count": 301,
   "metadata": {
    "ExecuteTime": {
     "end_time": "2018-05-18T20:20:23.703135Z",
     "start_time": "2018-05-18T19:57:05.747356Z"
    }
   },
   "outputs": [
    {
     "name": "stdout",
     "output_type": "stream",
     "text": [
      "31406\n",
      "0.8836283185840708 0.7170556552962298 0.7916749256689792\n",
      "{'param': 'n_estimators: 250 max_features: sqrt random_state: 13 min_samples_split: 2 criterion: gini', 'score': 0.7916749256689792}\n",
      "31406\n",
      "0.8820445609436435 0.7244348762109796 0.7955082742316786\n",
      "{'param': 'n_estimators: 250 max_features: sqrt random_state: 13 min_samples_split: 2 criterion: entropy', 'score': 0.7955082742316786}\n",
      "31406\n",
      "0.8836283185840708 0.7170556552962298 0.7916749256689792\n",
      "{'param': 'n_estimators: 250 max_features: log2 random_state: 13 min_samples_split: 2 criterion: gini', 'score': 0.7916749256689792}\n",
      "31406\n",
      "0.8820445609436435 0.7244348762109796 0.7955082742316786\n",
      "{'param': 'n_estimators: 250 max_features: log2 random_state: 13 min_samples_split: 2 criterion: entropy', 'score': 0.7955082742316786}\n",
      "31406\n",
      "0.8505839710028191 0.7583482944344704 0.8018223234624146\n",
      "{'param': 'n_estimators: 250 max_features: None random_state: 13 min_samples_split: 2 criterion: gini', 'score': 0.8018223234624146}\n",
      "31406\n",
      "0.8570851836899476 0.761750986724076 0.8066109422492401\n",
      "{'param': 'n_estimators: 250 max_features: None random_state: 13 min_samples_split: 2 criterion: entropy', 'score': 0.8066109422492401}\n",
      "31406\n",
      "0.8831630386494891 0.7133118048080374 0.7892020643112346\n",
      "{'param': 'n_estimators: 500 max_features: sqrt random_state: 13 min_samples_split: 2 criterion: gini', 'score': 0.7892020643112346}\n",
      "31406\n",
      "0.8813485113835376 0.7222820236813778 0.7939262472885033\n",
      "{'param': 'n_estimators: 500 max_features: sqrt random_state: 13 min_samples_split: 2 criterion: entropy', 'score': 0.7939262472885033}\n",
      "31406\n",
      "0.8831630386494891 0.7133118048080374 0.7892020643112346\n",
      "{'param': 'n_estimators: 500 max_features: log2 random_state: 13 min_samples_split: 2 criterion: gini', 'score': 0.7892020643112346}\n",
      "31406\n",
      "0.8813485113835376 0.7222820236813778 0.7939262472885033\n",
      "{'param': 'n_estimators: 500 max_features: log2 random_state: 13 min_samples_split: 2 criterion: entropy', 'score': 0.7939262472885033}\n",
      "31406\n",
      "0.8530480419862737 0.7587073608617594 0.8031166856708475\n",
      "{'param': 'n_estimators: 500 max_features: None random_state: 13 min_samples_split: 2 criterion: gini', 'score': 0.8031166856708475}\n",
      "31406\n",
      "0.8561122244488978 0.7664155005382132 0.8087845513063233\n",
      "{'param': 'n_estimators: 500 max_features: None random_state: 13 min_samples_split: 2 criterion: entropy', 'score': 0.8087845513063233}\n",
      "31406\n",
      "0.8799116997792494 0.7151058485827054 0.7889944576405384\n",
      "{'param': 'n_estimators: 750 max_features: sqrt random_state: 13 min_samples_split: 2 criterion: gini', 'score': 0.7889944576405384}\n",
      "31406\n",
      "0.8804867448935245 0.7269465374955149 0.796383647798742\n",
      "{'param': 'n_estimators: 750 max_features: sqrt random_state: 13 min_samples_split: 2 criterion: entropy', 'score': 0.796383647798742}\n",
      "31406\n",
      "0.8799116997792494 0.7151058485827054 0.7889944576405384\n",
      "{'param': 'n_estimators: 750 max_features: log2 random_state: 13 min_samples_split: 2 criterion: gini', 'score': 0.7889944576405384}\n",
      "31406\n",
      "0.8804867448935245 0.7269465374955149 0.796383647798742\n",
      "{'param': 'n_estimators: 750 max_features: log2 random_state: 13 min_samples_split: 2 criterion: entropy', 'score': 0.796383647798742}\n",
      "31406\n",
      "0.8530120481927711 0.7629310344827587 0.8054607508532423\n",
      "{'param': 'n_estimators: 750 max_features: None random_state: 13 min_samples_split: 2 criterion: gini', 'score': 0.8054607508532423}\n",
      "31406\n",
      "0.8548580567772891 0.7671331180480804 0.8086232980332829\n",
      "{'param': 'n_estimators: 750 max_features: None random_state: 13 min_samples_split: 2 criterion: entropy', 'score': 0.8086232980332829}\n",
      "31406\n",
      "0.882327016306743 0.718335127377108 0.7919303797468354\n",
      "{'param': 'n_estimators: 1000 max_features: sqrt random_state: 13 min_samples_split: 2 criterion: gini', 'score': 0.7919303797468354}\n",
      "31406\n",
      "0.8805905340859748 0.7276641550053822 0.7968565815324165\n",
      "{'param': 'n_estimators: 1000 max_features: sqrt random_state: 13 min_samples_split: 2 criterion: entropy', 'score': 0.7968565815324165}\n",
      "31406\n",
      "0.882327016306743 0.718335127377108 0.7919303797468354\n",
      "{'param': 'n_estimators: 1000 max_features: log2 random_state: 13 min_samples_split: 2 criterion: gini', 'score': 0.7919303797468354}\n",
      "31406\n",
      "0.8805905340859748 0.7276641550053822 0.7968565815324165\n",
      "{'param': 'n_estimators: 1000 max_features: log2 random_state: 13 min_samples_split: 2 criterion: entropy', 'score': 0.7968565815324165}\n",
      "31406\n",
      "0.851985559566787 0.7629310344827587 0.8050028425241615\n",
      "{'param': 'n_estimators: 1000 max_features: None random_state: 13 min_samples_split: 2 criterion: gini', 'score': 0.8050028425241615}\n",
      "31406\n",
      "0.8562274729675611 0.7671331180480804 0.8092354277062832\n",
      "{'param': 'n_estimators: 1000 max_features: None random_state: 13 min_samples_split: 2 criterion: entropy', 'score': 0.8092354277062832}\n",
      "31406\n",
      "0.8837312113174182 0.7172587011123072 0.7918399683105566\n",
      "{'param': 'n_estimators: 1250 max_features: sqrt random_state: 13 min_samples_split: 2 criterion: gini', 'score': 0.7918399683105566}\n",
      "31406\n",
      "0.8809730668983493 0.7276641550053822 0.7970131656514051\n",
      "{'param': 'n_estimators: 1250 max_features: sqrt random_state: 13 min_samples_split: 2 criterion: entropy', 'score': 0.7970131656514051}\n",
      "31406\n",
      "0.8837312113174182 0.7172587011123072 0.7918399683105566\n",
      "{'param': 'n_estimators: 1250 max_features: log2 random_state: 13 min_samples_split: 2 criterion: gini', 'score': 0.7918399683105566}\n",
      "31406\n",
      "0.8809730668983493 0.7276641550053822 0.7970131656514051\n",
      "{'param': 'n_estimators: 1250 max_features: log2 random_state: 13 min_samples_split: 2 criterion: entropy', 'score': 0.7970131656514051}\n",
      "31406\n",
      "0.8541582965046204 0.7636494252873564 0.8063720842025413\n",
      "{'param': 'n_estimators: 1250 max_features: None random_state: 13 min_samples_split: 2 criterion: gini', 'score': 0.8063720842025413}\n",
      "31406\n",
      "0.8528708133971292 0.767491926803014 0.8079320113314448\n",
      "{'param': 'n_estimators: 1250 max_features: None random_state: 13 min_samples_split: 2 criterion: entropy', 'score': 0.8079320113314448}\n",
      "31406\n",
      "0.8848028356225077 0.71654108360244 0.7918318794607454\n",
      "{'param': 'n_estimators: 1500 max_features: sqrt random_state: 13 min_samples_split: 2 criterion: gini', 'score': 0.7918318794607454}\n",
      "31406\n",
      "0.8810457516339869 0.7255113024757804 0.7957497048406139\n",
      "{'param': 'n_estimators: 1500 max_features: sqrt random_state: 13 min_samples_split: 2 criterion: entropy', 'score': 0.7957497048406139}\n",
      "31406\n",
      "0.8848028356225077 0.71654108360244 0.7918318794607454\n",
      "{'param': 'n_estimators: 1500 max_features: log2 random_state: 13 min_samples_split: 2 criterion: gini', 'score': 0.7918318794607454}\n",
      "31406\n",
      "0.8810457516339869 0.7255113024757804 0.7957497048406139\n",
      "{'param': 'n_estimators: 1500 max_features: log2 random_state: 13 min_samples_split: 2 criterion: entropy', 'score': 0.7957497048406139}\n",
      "31406\n",
      "0.8539823008849557 0.76229802513465 0.8055397457787896\n",
      "{'param': 'n_estimators: 1500 max_features: None random_state: 13 min_samples_split: 2 criterion: gini', 'score': 0.8055397457787896}\n",
      "31406\n",
      "0.8544582167133147 0.7667743092931467 0.8082450832072616\n",
      "{'param': 'n_estimators: 1500 max_features: None random_state: 13 min_samples_split: 2 criterion: entropy', 'score': 0.8082450832072616}\n"
     ]
    }
   ],
   "source": [
    "best_f1_cross = {\"param\":\"\", \"score\":0}\n",
    "res_f_cross = None\n",
    "\n",
    "for ne in [250, 500, 750, 1000, 1250, 1500]:\n",
    "    for mf in ['sqrt', 'log2', None]:\n",
    "        for ct in ['gini', 'entropy']:\n",
    "            for mss in [2]:\n",
    "                bf, res = RF_cv(cross_data, n_estimators=ne, max_features=mf, random_state=13, min_samples_split=mss, criterion=ct)\n",
    "                print(bf)\n",
    "                if bf['score'] > best_f1_cross['score']:\n",
    "                    best_f1_cross = bf\n",
    "                    res_f_cross = res"
   ]
  },
  {
   "cell_type": "code",
   "execution_count": 302,
   "metadata": {
    "ExecuteTime": {
     "end_time": "2018-05-18T20:20:24.499592Z",
     "start_time": "2018-05-18T20:20:24.497023Z"
    }
   },
   "outputs": [
    {
     "data": {
      "text/plain": [
       "{'param': 'n_estimators: 1000 max_features: None random_state: 13 min_samples_split: 2 criterion: entropy',\n",
       " 'score': 0.8092354277062832}"
      ]
     },
     "execution_count": 302,
     "metadata": {},
     "output_type": "execute_result"
    }
   ],
   "source": [
    "best_f1_cross"
   ]
  },
  {
   "cell_type": "code",
   "execution_count": 303,
   "metadata": {
    "ExecuteTime": {
     "end_time": "2018-05-18T20:20:25.289023Z",
     "start_time": "2018-05-18T20:20:25.286140Z"
    }
   },
   "outputs": [
    {
     "data": {
      "text/plain": [
       "{0: [0.9775533497042853, 0.9874576389616742, 0.9824805339265852],\n",
       " 7: [0.944078947368421, 0.7377892030848329, 0.8282828282828282],\n",
       " 2: [1.0, 1.0, 1.0],\n",
       " 6: [0.8661087866108786, 0.5098522167487685, 0.6418604651162791],\n",
       " 4: [0.7706349206349207, 0.7887896019496344, 0.7796065837013249],\n",
       " 3: [0.9672727272727273, 0.9204152249134948, 0.9432624113475179],\n",
       " 5: [0.9614147909967846, 0.8214285714285714, 0.8859259259259259],\n",
       " 1: [1.0, 1.0, 1.0]}"
      ]
     },
     "execution_count": 303,
     "metadata": {},
     "output_type": "execute_result"
    }
   ],
   "source": [
    "res_f_cross"
   ]
  },
  {
   "cell_type": "code",
   "execution_count": 308,
   "metadata": {
    "ExecuteTime": {
     "end_time": "2018-05-20T17:23:49.756419Z",
     "start_time": "2018-05-20T17:23:49.750389Z"
    }
   },
   "outputs": [
    {
     "name": "stdout",
     "output_type": "stream",
     "text": [
      "{0: 'NEGATIVE', 1: 'severity_type', 2: 'du', 3: 'manner/route', 4: 'reason', 5: 'fr', 6: 'adverse', 7: 'do'}\n"
     ]
    }
   ],
   "source": [
    "with open(\"features_labels/umass18SVM_cross_sent.svm_index2label.pkl\", \"rb\") as f:\n",
    "    x = pkl.load(f)\n",
    "print(x)"
   ]
  },
  {
   "cell_type": "markdown",
   "metadata": {},
   "source": [
    "## Train within and cross models"
   ]
  },
  {
   "cell_type": "markdown",
   "metadata": {},
   "source": [
    "#### param\n",
    "\n",
    "```json\n",
    "\n",
    "#within\n",
    "{'param': [n_estimators: 500, max_features: 0.5, random_state: 13 min_samples_split: 2],\n",
    " 'score': 0.9480012656892735}\n",
    " \n",
    "{'param': [n_estimators: 750, max_features: 0.3, random_state: 13, min_samples_split: 2, criterion: entropy],\n",
    " 'score': 0.9499591126117808}\n",
    "\n",
    "#cross\n",
    "{'param': [n_estimators: 1000, max_features: 0.8, random_state: 13, min_samples_split: 2],\n",
    " 'score': 0.8070641853399164}\n",
    "\n",
    "{'param': [n_estimators: 1250, max_features: 0.7, random_state: 13, min_samples_split: 2, criterion: entropy],\n",
    " 'score': 0.8139711465451783}\n",
    "\n",
    "```"
   ]
  },
  {
   "cell_type": "code",
   "execution_count": 201,
   "metadata": {
    "ExecuteTime": {
     "end_time": "2018-05-18T01:18:13.799870Z",
     "start_time": "2018-05-18T01:18:13.793754Z"
    }
   },
   "outputs": [],
   "source": [
    "def shuffle_data(X, y):\n",
    "    d = []\n",
    "    for each in zip(X, y):\n",
    "        d.append(each)\n",
    "    np.random.shuffle(d)\n",
    "    X_new = []\n",
    "    y_new = []\n",
    "    for each in d:\n",
    "        X_new.append(each[0])\n",
    "        y_new.append(each[1])\n",
    "    return X_new, y_new"
   ]
  },
  {
   "cell_type": "code",
   "execution_count": 283,
   "metadata": {
    "ExecuteTime": {
     "end_time": "2018-05-18T19:02:21.741232Z",
     "start_time": "2018-05-18T19:02:12.298667Z"
    }
   },
   "outputs": [
    {
     "name": "stdout",
     "output_type": "stream",
     "text": [
      "64783\n"
     ]
    },
    {
     "data": {
      "text/plain": [
       "RandomForestClassifier(bootstrap=True, class_weight=None, criterion='gini',\n",
       "            max_depth=None, max_features=0.5, max_leaf_nodes=None,\n",
       "            min_impurity_decrease=0.0, min_impurity_split=None,\n",
       "            min_samples_leaf=1, min_samples_split=2,\n",
       "            min_weight_fraction_leaf=0.0, n_estimators=500, n_jobs=-1,\n",
       "            oob_score=False, random_state=13, verbose=0, warm_start=False)"
      ]
     },
     "execution_count": 283,
     "metadata": {},
     "output_type": "execute_result"
    }
   ],
   "source": [
    "#within model\n",
    "X, y = load_RF_data(\"RF_data/umassRF_training_within.rf\")\n",
    "print(len(X))\n",
    "X_n, y_n  = shuffle_data(X, y)\n",
    "#'n_estimators: 750 max_features: 0.3 random_state: 13 min_samples_split: 2 criterion: 'entropy'\n",
    "clf_within = RandomForestClassifier(n_estimators=500, n_jobs=-1, max_features=0.5, random_state=13, min_samples_split=2)\n",
    "clf_within.fit(X_n, y_n)"
   ]
  },
  {
   "cell_type": "code",
   "execution_count": 284,
   "metadata": {
    "ExecuteTime": {
     "end_time": "2018-05-18T19:04:12.296283Z",
     "start_time": "2018-05-18T19:02:22.715946Z"
    }
   },
   "outputs": [
    {
     "name": "stdout",
     "output_type": "stream",
     "text": [
      "31406\n"
     ]
    },
    {
     "data": {
      "text/plain": [
       "RandomForestClassifier(bootstrap=True, class_weight=None, criterion='gini',\n",
       "            max_depth=None, max_features=0.8, max_leaf_nodes=None,\n",
       "            min_impurity_decrease=0.0, min_impurity_split=None,\n",
       "            min_samples_leaf=1, min_samples_split=2,\n",
       "            min_weight_fraction_leaf=0.0, n_estimators=1000, n_jobs=1,\n",
       "            oob_score=False, random_state=13, verbose=0, warm_start=False)"
      ]
     },
     "execution_count": 284,
     "metadata": {},
     "output_type": "execute_result"
    }
   ],
   "source": [
    "#cross model\n",
    "cross_file = \"RF_data/umassRF_training_cross1.rf\"\n",
    "X, y = load_RF_data(cross_file)\n",
    "print(len(X))\n",
    "X_n, y_n  = shuffle_data(X, y)\n",
    "#'param': 'n_estimators: 1250 max_features: 0.7 random_state: 13 min_samples_split: 2 criterion: 'entropy',\n",
    "clf_cross = RandomForestClassifier(n_estimators=1000, max_features=0.8, random_state=13, min_samples_split=2)\n",
    "clf_cross.fit(X_n, y_n)"
   ]
  },
  {
   "cell_type": "markdown",
   "metadata": {},
   "source": [
    "## Prediction"
   ]
  },
  {
   "cell_type": "code",
   "execution_count": 249,
   "metadata": {
    "ExecuteTime": {
     "end_time": "2018-05-18T14:41:47.091399Z",
     "start_time": "2018-05-18T14:41:47.080529Z"
    }
   },
   "outputs": [],
   "source": [
    "def output_prediction_result(file, pred_label, pred_prob):\n",
    "    assert len(pred_label) == len(pred_prob), \"Number of prediction labels must be the same as number of prediction probabilities\"\n",
    "    with open(file, \"w\") as f:\n",
    "        print(\"labels 0 1 2 3 4 5 6 7\", file=f, end=\"\\n\")\n",
    "        content = \"\"\n",
    "        for each in zip(pred_label, pred_prob):\n",
    "            line = \" \".join([str(e) for e in each[1]])\n",
    "            content += \"{} {}\\n\".format(each[0], line)\n",
    "        f.write(content)\n",
    "\n",
    "\n",
    "def load_prediction_data(data_file, feature_file):\n",
    "    with open(feature_file, \"rb\") as f:\n",
    "        t2i = pkl.load(f)\n",
    "    \n",
    "    with open(data_file, \"r\") as f:\n",
    "        measures = []\n",
    "        for line in f:\n",
    "            info = line[:-1].split(\"\\t\")\n",
    "            f1 = float(info[0])\n",
    "            f2 = float(info[1])\n",
    "            d = [f1, f2]\n",
    "            for i in range(2, len(info)):\n",
    "                if info[i] in t2i:\n",
    "                    fid = t2i[info[i]]\n",
    "                else:\n",
    "                    fid = 0\n",
    "                d.append(fid)\n",
    "            measures.append(d)\n",
    "    return measures"
   ]
  },
  {
   "cell_type": "markdown",
   "metadata": {},
   "source": [
    "#### task2"
   ]
  },
  {
   "cell_type": "code",
   "execution_count": 264,
   "metadata": {
    "ExecuteTime": {
     "end_time": "2018-05-18T18:33:55.412355Z",
     "start_time": "2018-05-18T18:33:55.407360Z"
    }
   },
   "outputs": [],
   "source": [
    "cross_feature = \"features_labels/umass18SVM_cross_sent.svm_features_dict.pkl\"\n",
    "within_feature = \"features_labels/umass18SVM_within_sent_features_dict.pkl\"\n",
    "cross_file = \"RF_data/umassRF_testing_cross.rf\"\n",
    "within_file = \"RF_data/umassRF_testing_within.rf\"\n",
    "within_pred_file = \"umass_predict_res/umassRF_testing_prediction_within_results.txt\"\n",
    "cross_pred_file = \"umass_predict_res/umassRF_testing_prediction_cross_results.txt\""
   ]
  },
  {
   "cell_type": "code",
   "execution_count": 265,
   "metadata": {
    "ExecuteTime": {
     "end_time": "2018-05-18T18:33:56.353929Z",
     "start_time": "2018-05-18T18:33:56.293326Z"
    }
   },
   "outputs": [
    {
     "name": "stdout",
     "output_type": "stream",
     "text": [
      "[37.0, 5.0, 0, 26521, 5, 108, 243, 6690, 0, 41, 44695, 0, 243, 45018, 0, 168, 22437, 0]\n"
     ]
    },
    {
     "data": {
      "text/plain": [
       "11381"
      ]
     },
     "execution_count": 265,
     "metadata": {},
     "output_type": "execute_result"
    }
   ],
   "source": [
    "#within sentence\n",
    "X_within = load_prediction_data(within_file, within_feature)\n",
    "print(X_within[0])\n",
    "len(X_within)"
   ]
  },
  {
   "cell_type": "code",
   "execution_count": 266,
   "metadata": {
    "ExecuteTime": {
     "end_time": "2018-05-18T18:33:57.591608Z",
     "start_time": "2018-05-18T18:33:57.143681Z"
    }
   },
   "outputs": [],
   "source": [
    "within_pred_prob = clf_within.predict_proba(X_within)\n",
    "within_pred_label = clf_within.predict(X_within)"
   ]
  },
  {
   "cell_type": "code",
   "execution_count": 267,
   "metadata": {
    "ExecuteTime": {
     "end_time": "2018-05-18T18:33:58.452057Z",
     "start_time": "2018-05-18T18:33:58.412479Z"
    }
   },
   "outputs": [],
   "source": [
    "output_prediction_result(within_pred_file, within_pred_label, within_pred_prob)"
   ]
  },
  {
   "cell_type": "code",
   "execution_count": 268,
   "metadata": {
    "ExecuteTime": {
     "end_time": "2018-05-18T18:33:59.269303Z",
     "start_time": "2018-05-18T18:33:59.241967Z"
    }
   },
   "outputs": [
    {
     "name": "stdout",
     "output_type": "stream",
     "text": [
      "[-76.0, -12.0, 323, 15083, 5, 42, 309, 9532, 0, 0, 0, 0, 227, 24720, 0, 171, 0, 27117]\n"
     ]
    },
    {
     "data": {
      "text/plain": [
       "4217"
      ]
     },
     "execution_count": 268,
     "metadata": {},
     "output_type": "execute_result"
    }
   ],
   "source": [
    "#cross sent\n",
    "X_cross = load_prediction_data(cross_file, cross_feature)\n",
    "print(X_cross[0])\n",
    "len(X_cross)"
   ]
  },
  {
   "cell_type": "code",
   "execution_count": 269,
   "metadata": {
    "ExecuteTime": {
     "end_time": "2018-05-18T18:34:00.789763Z",
     "start_time": "2018-05-18T18:34:00.058124Z"
    }
   },
   "outputs": [],
   "source": [
    "cross_pred_prob = clf_within.predict_proba(X_cross)\n",
    "cross_pred_label = clf_within.predict(X_cross)"
   ]
  },
  {
   "cell_type": "code",
   "execution_count": 270,
   "metadata": {
    "ExecuteTime": {
     "end_time": "2018-05-18T18:34:01.623597Z",
     "start_time": "2018-05-18T18:34:01.607207Z"
    }
   },
   "outputs": [],
   "source": [
    "output_prediction_result(cross_pred_file, cross_pred_label, cross_pred_prob)"
   ]
  },
  {
   "cell_type": "markdown",
   "metadata": {},
   "source": [
    "#### task 3 e2e"
   ]
  },
  {
   "cell_type": "code",
   "execution_count": 285,
   "metadata": {
    "ExecuteTime": {
     "end_time": "2018-05-18T19:04:13.159953Z",
     "start_time": "2018-05-18T19:04:13.083490Z"
    }
   },
   "outputs": [],
   "source": [
    "#load prediciton data\n",
    "cross_file = \"e2e/umassRF_testing_cross_e2e.rf\"\n",
    "within_file = \"e2e/umassRF_testing_within_e2e.rf\"\n",
    "within_pred_file = \"umass_predict_res/umassRF_testing_prediction_within_e2e_results.txt\"\n",
    "cross_pred_file = \"umass_predict_res/umassRF_testing_prediction_cross_e2e_results.txt\"\n",
    "cross_feature = \"features_labels/umass18SVM_cross_sent.svm_features_dict.pkl\"\n",
    "within_feature = \"features_labels/umass18SVM_within_sent_features_dict.pkl\"\n",
    "\n",
    "X_cross = load_prediction_data(cross_file, cross_feature)\n",
    "X_within = load_prediction_data(within_file, within_feature)"
   ]
  },
  {
   "cell_type": "code",
   "execution_count": 286,
   "metadata": {
    "ExecuteTime": {
     "end_time": "2018-05-18T19:04:13.943106Z",
     "start_time": "2018-05-18T19:04:13.940792Z"
    }
   },
   "outputs": [
    {
     "name": "stdout",
     "output_type": "stream",
     "text": [
      "[-76.0, -12.0, 323, 15083, 5, 42, 309, 9532, 0, 0, 0, 0, 227, 24720, 0, 171, 0, 27117]\n",
      "3525\n"
     ]
    }
   ],
   "source": [
    "print(X_cross[0])\n",
    "print(len(X_cross))"
   ]
  },
  {
   "cell_type": "code",
   "execution_count": 287,
   "metadata": {
    "ExecuteTime": {
     "end_time": "2018-05-18T19:04:14.733936Z",
     "start_time": "2018-05-18T19:04:14.730760Z"
    }
   },
   "outputs": [
    {
     "name": "stdout",
     "output_type": "stream",
     "text": [
      "[42.0, 6.0, 676, 26521, 5, 108, 0, 0, 0, 41, 44695, 0, 243, 45018, 0, 168, 22437, 0]\n"
     ]
    },
    {
     "data": {
      "text/plain": [
       "10426"
      ]
     },
     "execution_count": 287,
     "metadata": {},
     "output_type": "execute_result"
    }
   ],
   "source": [
    "print(X_within[0])\n",
    "len(X_within)"
   ]
  },
  {
   "cell_type": "code",
   "execution_count": 288,
   "metadata": {
    "ExecuteTime": {
     "end_time": "2018-05-18T19:04:16.265394Z",
     "start_time": "2018-05-18T19:04:15.518179Z"
    }
   },
   "outputs": [],
   "source": [
    "within_pred_prob = clf_within.predict_proba(X_within)\n",
    "within_pred_label = clf_within.predict(X_within)"
   ]
  },
  {
   "cell_type": "code",
   "execution_count": 289,
   "metadata": {
    "ExecuteTime": {
     "end_time": "2018-05-18T19:04:17.113771Z",
     "start_time": "2018-05-18T19:04:17.076557Z"
    }
   },
   "outputs": [],
   "source": [
    "output_prediction_result(within_pred_file, within_pred_label, within_pred_prob)"
   ]
  },
  {
   "cell_type": "code",
   "execution_count": 290,
   "metadata": {
    "ExecuteTime": {
     "end_time": "2018-05-18T19:04:18.631122Z",
     "start_time": "2018-05-18T19:04:17.900266Z"
    }
   },
   "outputs": [],
   "source": [
    "cross_pred_prob = clf_within.predict_proba(X_cross)\n",
    "cross_pred_label = clf_within.predict(X_cross)"
   ]
  },
  {
   "cell_type": "code",
   "execution_count": 291,
   "metadata": {
    "ExecuteTime": {
     "end_time": "2018-05-18T19:04:19.486840Z",
     "start_time": "2018-05-18T19:04:19.453497Z"
    }
   },
   "outputs": [],
   "source": [
    "output_prediction_result(cross_pred_file, cross_pred_label, cross_pred_prob)"
   ]
  },
  {
   "cell_type": "code",
   "execution_count": null,
   "metadata": {},
   "outputs": [],
   "source": []
  },
  {
   "cell_type": "code",
   "execution_count": null,
   "metadata": {},
   "outputs": [],
   "source": []
  }
 ],
 "metadata": {
  "kernelspec": {
   "display_name": "Python 3",
   "language": "python",
   "name": "python3"
  },
  "language_info": {
   "codemirror_mode": {
    "name": "ipython",
    "version": 3
   },
   "file_extension": ".py",
   "mimetype": "text/x-python",
   "name": "python",
   "nbconvert_exporter": "python",
   "pygments_lexer": "ipython3",
   "version": "3.6.4"
  },
  "varInspector": {
   "cols": {
    "lenName": 16,
    "lenType": 16,
    "lenVar": 40
   },
   "kernels_config": {
    "python": {
     "delete_cmd_postfix": "",
     "delete_cmd_prefix": "del ",
     "library": "var_list.py",
     "varRefreshCmd": "print(var_dic_list())"
    },
    "r": {
     "delete_cmd_postfix": ") ",
     "delete_cmd_prefix": "rm(",
     "library": "var_list.r",
     "varRefreshCmd": "cat(var_dic_list()) "
    }
   },
   "types_to_exclude": [
    "module",
    "function",
    "builtin_function_or_method",
    "instance",
    "_Feature"
   ],
   "window_display": false
  }
 },
 "nbformat": 4,
 "nbformat_minor": 2
}
